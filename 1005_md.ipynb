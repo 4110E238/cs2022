{
  "nbformat": 4,
  "nbformat_minor": 0,
  "metadata": {
    "colab": {
      "provenance": [],
      "collapsed_sections": [],
      "authorship_tag": "ABX9TyOhq4QzUJnecXnjXMLeSTYP",
      "include_colab_link": true
    },
    "kernelspec": {
      "name": "python3",
      "display_name": "Python 3"
    },
    "language_info": {
      "name": "python"
    }
  },
  "cells": [
    {
      "cell_type": "markdown",
      "metadata": {
        "id": "view-in-github",
        "colab_type": "text"
      },
      "source": [
        "<a href=\"https://colab.research.google.com/github/4110E238/cs2022/blob/main/1005_md.ipynb\" target=\"_parent\"><img src=\"https://colab.research.google.com/assets/colab-badge.svg\" alt=\"Open In Colab\"/></a>"
      ]
    },
    {
      "cell_type": "markdown",
      "source": [
        "Python Strings"
      ],
      "metadata": {
        "id": "gZ4RrjzKAVaG"
      }
    },
    {
      "cell_type": "code",
      "source": [
        "a = \"Hello 珍古絲汀\"\n",
        "print(a[7])\n",
        "\n",
        "# strings == > array\n",
        "# index begins with 0"
      ],
      "metadata": {
        "colab": {
          "base_uri": "https://localhost:8080/"
        },
        "id": "LBpmfb2AAZed",
        "outputId": "dbee8c65-8ebd-4093-92a1-06be0eb19d90"
      },
      "execution_count": null,
      "outputs": [
        {
          "output_type": "stream",
          "name": "stdout",
          "text": [
            "古\n"
          ]
        }
      ]
    },
    {
      "cell_type": "markdown",
      "source": [
        "•   Strings are Array ==> access the  element of arrays\n",
        "• Python does not have a character data type,a single character is simply a string with a length of 1"
      ],
      "metadata": {
        "id": "mun0av6NBVKM"
      }
    },
    {
      "cell_type": "code",
      "source": [
        "a  = \"HELLO ,WORLD\"\n",
        "print(a[4])\n",
        "\n",
        "# string==> array\n",
        "# index begins with 0"
      ],
      "metadata": {
        "colab": {
          "base_uri": "https://localhost:8080/"
        },
        "id": "LON0bVMxBxsQ",
        "outputId": "bb8e2514-7b5d-4a42-8c71-f0ec6de5c0f8"
      },
      "execution_count": null,
      "outputs": [
        {
          "output_type": "stream",
          "name": "stdout",
          "text": [
            "O\n"
          ]
        }
      ]
    },
    {
      "cell_type": "markdown",
      "source": [
        "• Looping Through a String"
      ],
      "metadata": {
        "id": "x3GD1fmVC7Bg"
      }
    },
    {
      "cell_type": "code",
      "source": [
        "for x in \"Jovie\":\n",
        "   print (x)"
      ],
      "metadata": {
        "colab": {
          "base_uri": "https://localhost:8080/"
        },
        "id": "1fhGU2VnDDQf",
        "outputId": "0aa06e6d-c28c-47d3-86d0-05cefbbeb996"
      },
      "execution_count": null,
      "outputs": [
        {
          "output_type": "stream",
          "name": "stdout",
          "text": [
            "J\n",
            "o\n",
            "v\n",
            "i\n",
            "e\n"
          ]
        }
      ]
    },
    {
      "cell_type": "markdown",
      "source": [
        "String Length : To get the length of a string,use the len() function."
      ],
      "metadata": {
        "id": "HcVurEUHDTRO"
      }
    },
    {
      "cell_type": "code",
      "source": [
        "a = \"Hello ,World!\"\n",
        "print(len(a))\n",
        "# wrong: print(length(a))"
      ],
      "metadata": {
        "colab": {
          "base_uri": "https://localhost:8080/"
        },
        "id": "rDZ76n5PD4Fq",
        "outputId": "a9d9c130-5e5b-4315-c8e8-b8afb8ff3c55"
      },
      "execution_count": null,
      "outputs": [
        {
          "output_type": "stream",
          "name": "stdout",
          "text": [
            "13\n"
          ]
        }
      ]
    },
    {
      "cell_type": "markdown",
      "source": [
        "Quiz:Tell me  how many char appear in \"dshdsjadhsjahdsjhdecwej  dsaksdjl\"\n"
      ],
      "metadata": {
        "id": "Daevj8veIhSg"
      }
    },
    {
      "cell_type": "code",
      "source": [
        "a = \"dshdsjadhsjahdsjhdecwej  dsaksdjl\"\n",
        "print(len(a))\n",
        "# wrong: print(length(a))\n",
        "# 33 = 31 letter 2 space"
      ],
      "metadata": {
        "colab": {
          "base_uri": "https://localhost:8080/"
        },
        "id": "utTy_loOJj8g",
        "outputId": "6a3bcd7c-3d6d-4b64-85f8-fac7b45703f6"
      },
      "execution_count": null,
      "outputs": [
        {
          "output_type": "stream",
          "name": "stdout",
          "text": [
            "33\n"
          ]
        }
      ]
    },
    {
      "cell_type": "markdown",
      "source": [
        "• Check String:To check if a certain phrase or character is present string ,we can use the keyword in.\n",
        "• keyword in vs if\n",
        "• True or false        "
      ],
      "metadata": {
        "id": "uVTf3we-JvV2"
      }
    },
    {
      "cell_type": "code",
      "source": [
        "txt = \"The best things in life are free!HDJSAdhjs  dhsjahd32 dsaDJHSajdh \"\n",
        "# print(\"free\" in txt) == > True\n",
        "# print(\"HDJSAdhj\" in txt) == > True\n",
        "print(\"HJSAdh\" in txt)  # False"
      ],
      "metadata": {
        "id": "d6itEba_K4RQ",
        "colab": {
          "base_uri": "https://localhost:8080/"
        },
        "outputId": "f1ca3a56-86bb-47dd-993d-8ff31d104593"
      },
      "execution_count": null,
      "outputs": [
        {
          "output_type": "stream",
          "name": "stdout",
          "text": [
            "False\n"
          ]
        }
      ]
    },
    {
      "cell_type": "code",
      "source": [
        "txt = \"The best things in life are free!HDJSAdhjs  dhsjahd32 dsaDJHSajdh \"\n",
        "if \"HDJSAdhj\" in txt:\n",
        "  print(\"Yes, 'HDJSAdhj' is present.\")"
      ],
      "metadata": {
        "colab": {
          "base_uri": "https://localhost:8080/"
        },
        "id": "w8dPczMMLQ14",
        "outputId": "e0b6410c-36bb-4245-c9fb-8584258045c5"
      },
      "execution_count": null,
      "outputs": [
        {
          "output_type": "stream",
          "name": "stdout",
          "text": [
            "Yes, 'HDJSAdhj' is present.\n"
          ]
        }
      ]
    },
    {
      "cell_type": "code",
      "source": [
        "txt = \"The best things in life are free!HDJSAdhjs  dhsjahd32 dsaDJHSajdh \"\n",
        "if \"HJSAdhj\" in txt:\n",
        "  print(\"Yes, 'HJSAdhj' is present.\")"
      ],
      "metadata": {
        "id": "FD7LF3_ELWM8"
      },
      "execution_count": null,
      "outputs": []
    },
    {
      "cell_type": "markdown",
      "source": [
        "•Negative Indexing"
      ],
      "metadata": {
        "id": "hTVusi_gLiak"
      }
    },
    {
      "cell_type": "code",
      "source": [
        "b = \"Hello, Jovie!\"\n",
        "print(b[-5:-2])\n",
        "# -2 not included"
      ],
      "metadata": {
        "colab": {
          "base_uri": "https://localhost:8080/"
        },
        "id": "5aIabPUULpzS",
        "outputId": "0b4d113f-c564-405b-9aff-4782eea214e3"
      },
      "execution_count": null,
      "outputs": [
        {
          "output_type": "stream",
          "name": "stdout",
          "text": [
            "ovi\n"
          ]
        }
      ]
    },
    {
      "cell_type": "markdown",
      "source": [
        "Python Modify strings"
      ],
      "metadata": {
        "id": "-cmDB8RfMOBd"
      }
    },
    {
      "cell_type": "code",
      "source": [
        "b = \"Hello, Jovie!\"\n",
        "print(b.upper())"
      ],
      "metadata": {
        "id": "d5uOWuuiMSqP",
        "colab": {
          "base_uri": "https://localhost:8080/"
        },
        "outputId": "7c9ecb2c-1bfe-4510-ed34-fb9c2429273c"
      },
      "execution_count": null,
      "outputs": [
        {
          "output_type": "stream",
          "name": "stdout",
          "text": [
            "HELLO, JOVIE!\n"
          ]
        }
      ]
    },
    {
      "cell_type": "markdown",
      "source": [
        "Remove Whitespace with  strip() method"
      ],
      "metadata": {
        "id": "kRqOIu9YMuB1"
      }
    },
    {
      "cell_type": "code",
      "source": [
        "b = \" Hello, Jovie! \"\n",
        "print(b.strip())"
      ],
      "metadata": {
        "colab": {
          "base_uri": "https://localhost:8080/"
        },
        "id": "8ILvFjrdM2wm",
        "outputId": "c38fcbee-490e-4a9e-acd2-b99b0cb6090f"
      },
      "execution_count": null,
      "outputs": [
        {
          "output_type": "stream",
          "name": "stdout",
          "text": [
            "Hello, Jovie!\n"
          ]
        }
      ]
    },
    {
      "cell_type": "markdown",
      "source": [
        "• Replace method \n",
        "• Seperator"
      ],
      "metadata": {
        "id": "J9ijhMkQNOra"
      }
    },
    {
      "cell_type": "code",
      "source": [
        "b = \" Hello, Jovie! \"\n",
        "print(b.replace(\"o\", \"w\"))"
      ],
      "metadata": {
        "colab": {
          "base_uri": "https://localhost:8080/"
        },
        "id": "OTPeFWdqNp_X",
        "outputId": "5ce3941e-f3e7-44b7-8f9d-7716632905b3"
      },
      "execution_count": null,
      "outputs": [
        {
          "output_type": "stream",
          "name": "stdout",
          "text": [
            " Hellw, Jwvie! \n"
          ]
        }
      ]
    },
    {
      "cell_type": "code",
      "source": [
        "b = \" Hello, Jovie! \"\n",
        "print(b.split(\",\"))"
      ],
      "metadata": {
        "colab": {
          "base_uri": "https://localhost:8080/"
        },
        "id": "x1UNbjMANwng",
        "outputId": "1d126be0-9bd5-459d-d116-8e9153a5080f"
      },
      "execution_count": null,
      "outputs": [
        {
          "output_type": "stream",
          "name": "stdout",
          "text": [
            "[' Hello', ' Jovie! ']\n"
          ]
        }
      ]
    },
    {
      "cell_type": "code",
      "source": [
        "b = \" Hello, Jovie! \"\n",
        "print(b.split(\"i\"))"
      ],
      "metadata": {
        "colab": {
          "base_uri": "https://localhost:8080/"
        },
        "id": "JW9LrLW3N8eP",
        "outputId": "ad2bacff-5ee1-4372-c117-fbdcbd047f8c"
      },
      "execution_count": null,
      "outputs": [
        {
          "output_type": "stream",
          "name": "stdout",
          "text": [
            "[' Hello, Jov', 'e! ']\n"
          ]
        }
      ]
    },
    {
      "cell_type": "markdown",
      "source": [],
      "metadata": {
        "id": "xZ4L-Q_OOQwL"
      }
    },
    {
      "cell_type": "markdown",
      "source": [
        "String  Concatenation"
      ],
      "metadata": {
        "id": "eHga2BEWORBn"
      }
    },
    {
      "cell_type": "code",
      "source": [
        "a = \"Hello\"\n",
        "b = \" , \"\n",
        "c = \"Jovie\"\n",
        "d = a + b + c\n",
        "print(d)"
      ],
      "metadata": {
        "colab": {
          "base_uri": "https://localhost:8080/"
        },
        "id": "3Bij6fmIOWzL",
        "outputId": "d87212f9-9b7a-4c31-9b2a-8e0e4a81fb16"
      },
      "execution_count": null,
      "outputs": [
        {
          "output_type": "stream",
          "name": "stdout",
          "text": [
            "Hello , Jovie\n"
          ]
        }
      ]
    },
    {
      "cell_type": "markdown",
      "source": [
        "Python Format strings"
      ],
      "metadata": {
        "id": "a8arwDROOjK7"
      }
    },
    {
      "cell_type": "code",
      "source": [
        "age = 19\n",
        "txt = \"My name is Jovie, and I am {}\"\n",
        "print(txt.format(age))"
      ],
      "metadata": {
        "colab": {
          "base_uri": "https://localhost:8080/"
        },
        "id": "xOzFb_I0PC98",
        "outputId": "5187d4e4-9c29-4df3-e866-d86df8fe5b5c"
      },
      "execution_count": null,
      "outputs": [
        {
          "output_type": "stream",
          "name": "stdout",
          "text": [
            "My name is Jovie, and I am 19\n"
          ]
        }
      ]
    },
    {
      "cell_type": "code",
      "source": [
        "quantity = 3\n",
        "itemno = 567\n",
        "price = 49.95\n",
        "myorder = \"I want {2} pieces of item {2} for {2} dollars.\"\n",
        "print(myorder.format(quantity, itemno, price))"
      ],
      "metadata": {
        "colab": {
          "base_uri": "https://localhost:8080/"
        },
        "id": "OSP7saEJPd7q",
        "outputId": "1828ad53-a8be-4fb8-c9eb-c00e9553f935"
      },
      "execution_count": null,
      "outputs": [
        {
          "output_type": "stream",
          "name": "stdout",
          "text": [
            "I want 49.95 pieces of item 49.95 for 49.95 dollars.\n"
          ]
        }
      ]
    },
    {
      "cell_type": "markdown",
      "source": [
        "String method"
      ],
      "metadata": {
        "id": "RnaA74CnQSCI"
      }
    },
    {
      "cell_type": "code",
      "source": [
        "txt = \"hello, and welcome to my world.\"\n",
        "\n",
        "x = txt.capitalize()\n",
        "\n",
        "print (x)"
      ],
      "metadata": {
        "colab": {
          "base_uri": "https://localhost:8080/"
        },
        "id": "CDGlykbaQUje",
        "outputId": "458fd60a-6d03-4549-c774-ac3e69d6bc16"
      },
      "execution_count": 25,
      "outputs": [
        {
          "output_type": "stream",
          "name": "stdout",
          "text": [
            "Hello, and welcome to my world.\n"
          ]
        }
      ]
    },
    {
      "cell_type": "code",
      "source": [
        "txt = \"Hello, And Welcome To My World!\"\n",
        "\n",
        "x = txt.casefold()\n",
        "\n",
        "print(x)"
      ],
      "metadata": {
        "colab": {
          "base_uri": "https://localhost:8080/"
        },
        "id": "NZIbgz1vQXvp",
        "outputId": "c9813194-5419-4944-e764-6a7bb6620bdd"
      },
      "execution_count": 26,
      "outputs": [
        {
          "output_type": "stream",
          "name": "stdout",
          "text": [
            "hello, and welcome to my world!\n"
          ]
        }
      ]
    }
  ]
}