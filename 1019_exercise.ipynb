{
  "nbformat": 4,
  "nbformat_minor": 0,
  "metadata": {
    "colab": {
      "provenance": [],
      "collapsed_sections": [],
      "authorship_tag": "ABX9TyOAonlxRfjgXOEOxzGks/bQ",
      "include_colab_link": true
    },
    "kernelspec": {
      "name": "python3",
      "display_name": "Python 3"
    },
    "language_info": {
      "name": "python"
    }
  },
  "cells": [
    {
      "cell_type": "markdown",
      "metadata": {
        "id": "view-in-github",
        "colab_type": "text"
      },
      "source": [
        "<a href=\"https://colab.research.google.com/github/4110E238/cs2022/blob/main/1019_exercise.ipynb\" target=\"_parent\"><img src=\"https://colab.research.google.com/assets/colab-badge.svg\" alt=\"Open In Colab\"/></a>"
      ]
    },
    {
      "cell_type": "markdown",
      "source": [
        "Python Conditions and If statements"
      ],
      "metadata": {
        "id": "12EPUQHfMkC-"
      }
    },
    {
      "cell_type": "markdown",
      "source": [
        "Example\n",
        "If statement:"
      ],
      "metadata": {
        "id": "VJ7iWGKLMufW"
      }
    },
    {
      "cell_type": "code",
      "source": [
        "a = 33\n",
        "b = 200\n",
        "if b > a:\n",
        "  print(\"Hello Shiori\")"
      ],
      "metadata": {
        "colab": {
          "base_uri": "https://localhost:8080/"
        },
        "id": "IRWRyVEsM3Te",
        "outputId": "d45e97e3-1e06-4f5c-a197-2fc5c4795e01"
      },
      "execution_count": 18,
      "outputs": [
        {
          "output_type": "stream",
          "name": "stdout",
          "text": [
            "Hello Shiori\n"
          ]
        }
      ]
    },
    {
      "cell_type": "markdown",
      "source": [
        "Indentation"
      ],
      "metadata": {
        "id": "f2jESOhsM6NQ"
      }
    },
    {
      "cell_type": "code",
      "source": [
        "a = 33\n",
        "b = 200\n",
        "if b > a:\n",
        "  print(\"Hello Shiori\")"
      ],
      "metadata": {
        "colab": {
          "base_uri": "https://localhost:8080/"
        },
        "id": "T0KdfUNHM81v",
        "outputId": "a2593014-1108-43e7-cf2a-1f915c5e1325"
      },
      "execution_count": 19,
      "outputs": [
        {
          "output_type": "stream",
          "name": "stdout",
          "text": [
            "Hello Shiori\n"
          ]
        }
      ]
    },
    {
      "cell_type": "markdown",
      "source": [
        "Elif"
      ],
      "metadata": {
        "id": "TxjkQZGJNZ-l"
      }
    },
    {
      "cell_type": "code",
      "source": [
        "a = 33\n",
        "b = 33\n",
        "if b > a:\n",
        "  print(\"John is greater than Jovie\")\n",
        "elif a == b:\n",
        "  print(\"John and Jovie are equal\")"
      ],
      "metadata": {
        "colab": {
          "base_uri": "https://localhost:8080/"
        },
        "id": "UcfSG0uhNcr9",
        "outputId": "81b6de41-b597-4b56-e749-f7b26d0470a5"
      },
      "execution_count": 21,
      "outputs": [
        {
          "output_type": "stream",
          "name": "stdout",
          "text": [
            "John and Jovie are equal\n"
          ]
        }
      ]
    },
    {
      "cell_type": "markdown",
      "source": [
        "Else"
      ],
      "metadata": {
        "id": "ysph7UquNmJV"
      }
    },
    {
      "cell_type": "code",
      "source": [
        "a = 200\n",
        "b = 33\n",
        "if b > a:\n",
        "  print(\"John is greater than Jovie\")\n",
        "elif a == b:\n",
        "  print(\"Jovie and John are equal\")\n",
        "else:\n",
        "  print(\"Jovie is greater than John\")"
      ],
      "metadata": {
        "colab": {
          "base_uri": "https://localhost:8080/"
        },
        "id": "8EwEjPnrNoZV",
        "outputId": "3334d061-b394-4ac6-a44e-abb2809e487e"
      },
      "execution_count": 22,
      "outputs": [
        {
          "output_type": "stream",
          "name": "stdout",
          "text": [
            "Jovie is greater than John\n"
          ]
        }
      ]
    },
    {
      "cell_type": "markdown",
      "source": [
        "In this example a is greater than b, so the first condition is not true, also the elif condition is not true, so we go to the else condition and print to screen that \"a is greater than b\".\n",
        "\n",
        "You can also have an else without the elif:"
      ],
      "metadata": {
        "id": "xso8Sj3UNtYN"
      }
    },
    {
      "cell_type": "code",
      "source": [
        "a = 200\n",
        "b = 33\n",
        "if b > a:\n",
        "  print(\"John is greater than Jovie\")\n",
        "else:\n",
        "  print(\"John is not greater than Jovie\")\n"
      ],
      "metadata": {
        "colab": {
          "base_uri": "https://localhost:8080/"
        },
        "id": "fwJww5isNyC-",
        "outputId": "40023e10-2093-4113-eedd-904ecf93e60f"
      },
      "execution_count": 24,
      "outputs": [
        {
          "output_type": "stream",
          "name": "stdout",
          "text": [
            "John is not greater than Jovie\n",
            "John is not greater than Jovie\n"
          ]
        }
      ]
    },
    {
      "cell_type": "markdown",
      "source": [
        "Short Hand If"
      ],
      "metadata": {
        "id": "Y-2KFQ8dOFNF"
      }
    },
    {
      "cell_type": "code",
      "source": [
        "if a > b: print(\"Jovie is greater than John\")"
      ],
      "metadata": {
        "colab": {
          "base_uri": "https://localhost:8080/"
        },
        "id": "bBXlLJllOHRc",
        "outputId": "62893819-c245-4629-8580-9c02579c2503"
      },
      "execution_count": 25,
      "outputs": [
        {
          "output_type": "stream",
          "name": "stdout",
          "text": [
            "Jovie is greater than John\n"
          ]
        }
      ]
    },
    {
      "cell_type": "markdown",
      "source": [
        "Short Hand If ... Else"
      ],
      "metadata": {
        "id": "V3_lfruiOeiu"
      }
    },
    {
      "cell_type": "code",
      "source": [
        "a = 2\n",
        "b = 330\n",
        "print(\"A\") if a > b else print(\"B\")"
      ],
      "metadata": {
        "colab": {
          "base_uri": "https://localhost:8080/"
        },
        "id": "39gsUZDgOf7l",
        "outputId": "b1279280-525c-4cf0-966d-c5a04a06c9b4"
      },
      "execution_count": 11,
      "outputs": [
        {
          "output_type": "stream",
          "name": "stdout",
          "text": [
            "B\n"
          ]
        }
      ]
    },
    {
      "cell_type": "markdown",
      "source": [
        "Ternary Operators, or Conditional Expressions.\n",
        "\n",
        "You can also have multiple else statements on the same line:"
      ],
      "metadata": {
        "id": "B7IZZrU6O3Ig"
      }
    },
    {
      "cell_type": "code",
      "source": [
        "a = 330\n",
        "b = 330\n",
        "print(\"A\") if a > b else print(\"=\") if a == b else print(\"B\")"
      ],
      "metadata": {
        "colab": {
          "base_uri": "https://localhost:8080/"
        },
        "id": "F-f5hAuTO7F9",
        "outputId": "49fd3329-e30c-4d24-bd33-dc144b104d92"
      },
      "execution_count": 10,
      "outputs": [
        {
          "output_type": "stream",
          "name": "stdout",
          "text": [
            "=\n"
          ]
        }
      ]
    },
    {
      "cell_type": "markdown",
      "source": [
        "And"
      ],
      "metadata": {
        "id": "hjWA0msfPVMM"
      }
    },
    {
      "cell_type": "code",
      "source": [
        "a = 200\n",
        "b = 33\n",
        "c = 500\n",
        "if a > b and c > a:\n",
        "  print(\"Both conditions are True\")"
      ],
      "metadata": {
        "colab": {
          "base_uri": "https://localhost:8080/"
        },
        "id": "b44GxGahPYAl",
        "outputId": "30e25e8b-ba1b-4a05-a2e8-7f0eac8d5b62"
      },
      "execution_count": 13,
      "outputs": [
        {
          "output_type": "stream",
          "name": "stdout",
          "text": [
            "Both conditions are True\n"
          ]
        }
      ]
    },
    {
      "cell_type": "markdown",
      "source": [
        "Or"
      ],
      "metadata": {
        "id": "5MHdjmNcPfgk"
      }
    },
    {
      "cell_type": "code",
      "source": [
        "a = 200\n",
        "b = 33\n",
        "c = 500\n",
        "if a > b or a > c:\n",
        "  print(\"At least one of the conditions is True\")"
      ],
      "metadata": {
        "colab": {
          "base_uri": "https://localhost:8080/"
        },
        "id": "AC80VoRPPiT2",
        "outputId": "b10c5857-914f-4857-f2ca-fe952256b4f7"
      },
      "execution_count": 16,
      "outputs": [
        {
          "output_type": "stream",
          "name": "stdout",
          "text": [
            "At least one of the conditions is True\n"
          ]
        }
      ]
    },
    {
      "cell_type": "markdown",
      "source": [
        "Nested If"
      ],
      "metadata": {
        "id": "hmWX1GF-Ppx9"
      }
    },
    {
      "cell_type": "code",
      "source": [
        "x = 41\n",
        "\n",
        "if x > 10:\n",
        "  print(\"Above ten,\")\n",
        "  if x > 20:\n",
        "    print(\"and also above 20!\")\n",
        "  else:\n",
        "    print(\"but not above 20.\")"
      ],
      "metadata": {
        "colab": {
          "base_uri": "https://localhost:8080/"
        },
        "id": "NXfSF_VwPqqc",
        "outputId": "6b6f5333-d172-432d-bf32-5a9723058ad5"
      },
      "execution_count": 15,
      "outputs": [
        {
          "output_type": "stream",
          "name": "stdout",
          "text": [
            "Above ten,\n",
            "and also above 20!\n"
          ]
        }
      ]
    },
    {
      "cell_type": "markdown",
      "source": [
        "The pass Statement"
      ],
      "metadata": {
        "id": "5WYi01VHPynN"
      }
    },
    {
      "cell_type": "code",
      "source": [
        "a = 33\n",
        "b = 200\n",
        "\n",
        "if b > a:\n",
        "  pass"
      ],
      "metadata": {
        "id": "oFk-tvKWPzak"
      },
      "execution_count": 17,
      "outputs": []
    }
  ]
}