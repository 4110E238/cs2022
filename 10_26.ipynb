{
  "nbformat": 4,
  "nbformat_minor": 0,
  "metadata": {
    "colab": {
      "provenance": [],
      "authorship_tag": "ABX9TyPdm15z4SHjyhNeEuX43LgU",
      "include_colab_link": true
    },
    "kernelspec": {
      "name": "python3",
      "display_name": "Python 3"
    },
    "language_info": {
      "name": "python"
    }
  },
  "cells": [
    {
      "cell_type": "markdown",
      "metadata": {
        "id": "view-in-github",
        "colab_type": "text"
      },
      "source": [
        "<a href=\"https://colab.research.google.com/github/4110E238/cs2022/blob/main/10_26.ipynb\" target=\"_parent\"><img src=\"https://colab.research.google.com/assets/colab-badge.svg\" alt=\"Open In Colab\"/></a>"
      ]
    },
    {
      "cell_type": "code",
      "execution_count": 40,
      "metadata": {
        "colab": {
          "base_uri": "https://localhost:8080/"
        },
        "id": "CD9P36kdxXN9",
        "outputId": "d0c58021-9647-4aea-83a2-97b0bbe471e1"
      },
      "outputs": [
        {
          "output_type": "stream",
          "name": "stdout",
          "text": [
            "Sum from 1 to 200 is 20100\n",
            "Sum from 1 to 30 is 465\n",
            "Sum from 20 to 50 is 1085\n"
          ]
        }
      ],
      "source": [
        "def  sum(il, i2): \n",
        "     result = 0\n",
        "     for i in range(il, i2):\n",
        "           result += i \n",
        "     return result\n",
        "\n",
        "def  main():\n",
        "     print(\"Sum from 1 to 200 is\", sum(1, 201))\n",
        "     print(\"Sum from 1 to 30 is\", sum(1, 31))\n",
        "     print(\"Sum from 20 to 50 is\", sum(20, 51))\n",
        "  \n",
        "main() # Call the main function"
      ]
    }
  ]
}