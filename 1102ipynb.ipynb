{
  "nbformat": 4,
  "nbformat_minor": 0,
  "metadata": {
    "colab": {
      "provenance": [],
      "collapsed_sections": [],
      "authorship_tag": "ABX9TyNzYTLpmalscYovzub8gmFb",
      "include_colab_link": true
    },
    "kernelspec": {
      "name": "python3",
      "display_name": "Python 3"
    },
    "language_info": {
      "name": "python"
    }
  },
  "cells": [
    {
      "cell_type": "markdown",
      "metadata": {
        "id": "view-in-github",
        "colab_type": "text"
      },
      "source": [
        "<a href=\"https://colab.research.google.com/github/4110E238/cs2022/blob/main/1102ipynb.ipynb\" target=\"_parent\"><img src=\"https://colab.research.google.com/assets/colab-badge.svg\" alt=\"Open In Colab\"/></a>"
      ]
    },
    {
      "cell_type": "code",
      "execution_count": null,
      "metadata": {
        "id": "kh3-5B3KwSP-"
      },
      "outputs": [],
      "source": []
    },
    {
      "cell_type": "markdown",
      "source": [
        "**1102** **Test**"
      ],
      "metadata": {
        "id": "OmGlWvIuwoTI"
      }
    },
    {
      "cell_type": "markdown",
      "source": [
        "Which following is the correct way to create a dictionary in Python?\n",
        "\n",
        "(A) students = { 'name' => 'alice' ; 'score' =>60 }\n",
        "\n",
        "(B) students = { 'name' = 'alice' ; 'score' =60 }\n",
        "\n",
        "(C) students = { 'name' : 'alice' ; 'score' : 60 }\n",
        "\n",
        "(D) students = { 'name' => 'alice' , 'score' =>60 }\n",
        "\n",
        "(E) students = { 'name' : 'alice' , 'score' : 60 }"
      ],
      "metadata": {
        "id": "DejrbKfDw4FK"
      }
    },
    {
      "cell_type": "code",
      "source": [
        "student = {\n",
        "    \"name\": \"alice\",\n",
        "      \"score\": 60\n",
        "}\n",
        "print(student)\n"
      ],
      "metadata": {
        "colab": {
          "base_uri": "https://localhost:8080/"
        },
        "id": "hgrmlNEswrsT",
        "outputId": "a959c738-b67b-464a-cfc0-83604090eb42"
      },
      "execution_count": null,
      "outputs": [
        {
          "output_type": "stream",
          "name": "stdout",
          "text": [
            "{'name': 'alice', 'score': 60}\n"
          ]
        }
      ]
    },
    {
      "cell_type": "markdown",
      "source": [
        "2.\n",
        "What does the following Python program fragment do?\n",
        "\n",
        "s=0\n",
        "\n",
        "for i in range (3 , 10) :\n",
        "\n",
        "    s+=i\n",
        "\n",
        "    print (s)\n",
        "\n",
        "    (A) Calculate the sum of 1+2+…+10\n",
        "\n",
        "    (B) Calculate the sum of 1+4+7+10\n",
        "\n",
        "    (C) Calculate the sum of 3+4+5+6+…+9\n",
        "\n",
        "    (D) Calculate the sum of 3+4+5+6+…+10\n",
        "\n",
        "    (E) Calculate the sum of 0+2+4+6+…+10"
      ],
      "metadata": {
        "id": "2pWKeuveygPx"
      }
    },
    {
      "cell_type": "markdown",
      "source": [
        "***ANSWER*** :***B***"
      ],
      "metadata": {
        "id": "FTFIrciAy0lZ"
      }
    },
    {
      "cell_type": "code",
      "source": [
        "s=0\n",
        "for i in range (3 , 10) :\n",
        "  s+=i\n",
        "\n",
        "  print (s)"
      ],
      "metadata": {
        "colab": {
          "base_uri": "https://localhost:8080/"
        },
        "id": "Apqw8Qqdy3xb",
        "outputId": "0a2c5ce0-991f-4dbe-d24e-a9aa3ee0b689"
      },
      "execution_count": null,
      "outputs": [
        {
          "output_type": "stream",
          "name": "stdout",
          "text": [
            "3\n",
            "7\n",
            "12\n",
            "18\n",
            "25\n",
            "33\n",
            "42\n"
          ]
        }
      ]
    },
    {
      "cell_type": "markdown",
      "source": [
        "3.\n",
        "What is the output of this code in Python?\n",
        "\n",
        "  list = [ ' a ' ,  ' b ' ,  ' c ' ,  ' d ' ,  ' e ' ]\n",
        "\n",
        "    print (list [ 1 : ])\n",
        "\n",
        "    (A) [ ]\n",
        "\n",
        "    (B) [ 'b' ]\n",
        "\n",
        "    (C) [ 'a' , 'b' ]\n",
        "\n",
        "    (D) [ 'b' , 'c' , 'd' , 'e' ]"
      ],
      "metadata": {
        "id": "WOgWJP5ozGq8"
      }
    },
    {
      "cell_type": "markdown",
      "source": [
        "***ANSWER*** : ***D***"
      ],
      "metadata": {
        "id": "HGJhvi8HzTlv"
      }
    },
    {
      "cell_type": "code",
      "source": [
        "list = [ ' a ' , ' b ' , ' c ' , ' d ' , ' e ']\n",
        "print (list [ 1 : ])"
      ],
      "metadata": {
        "colab": {
          "base_uri": "https://localhost:8080/"
        },
        "id": "66iVxFcMzyDE",
        "outputId": "ae52747b-f6d0-4c5c-8b5c-09d4951057ea"
      },
      "execution_count": null,
      "outputs": [
        {
          "output_type": "stream",
          "name": "stdout",
          "text": [
            "[' b ', ' c ', ' d ', ' e ']\n"
          ]
        }
      ]
    },
    {
      "cell_type": "markdown",
      "source": [
        "4. What  is the output of this code python?\n",
        "L1 = [ ]\n",
        "\n",
        "    L1.append ( [1, [2, 3], 4] )\n",
        "\n",
        "        L1.extend ( [7, 8, 9] )\n",
        "\n",
        "            print(L1[0][1][1] + L1[2] )\n",
        "\n",
        "            (A) 3\n",
        "\n",
        "            (B) 8\n",
        "\n",
        "            (C) 11\n",
        "\n",
        "            (D) 38\n",
        "\n",
        "            (E) None of L1 = [ ]\n",
        "\n",
        "    L1.append ( [1, [2, 3], 4] )\n",
        "\n",
        "    L1.extend ( [7, 8, 9] )\n",
        "\n",
        "    print(L1[0][1][1] + L1[2] )\n",
        "\n",
        "(A) 3\n",
        "\n",
        "(B) 8\n",
        "\n",
        "(C) 11\n",
        "\n",
        "(D) 38\n",
        "\n",
        "(E) None of these4"
      ],
      "metadata": {
        "id": "KEZBhX8E1quC"
      }
    },
    {
      "cell_type": "markdown",
      "source": [
        "***ANSWER*** : ***C***\n"
      ],
      "metadata": {
        "id": "HcUJqL7q2Crv"
      }
    },
    {
      "cell_type": "code",
      "source": [
        "L1 = [ ]\n",
        "L1.append ( [1, [2, 3], 4] )\n",
        "L1.extend ( [7, 8, 9] )\n",
        "print(L1[0][1][1] + L1[2] )"
      ],
      "metadata": {
        "colab": {
          "base_uri": "https://localhost:8080/"
        },
        "id": "0Cmd0Dko2Kkq",
        "outputId": "0da9cdaf-fd60-487e-82c9-4e28ec448193"
      },
      "execution_count": null,
      "outputs": [
        {
          "output_type": "stream",
          "name": "stdout",
          "text": [
            "11\n"
          ]
        }
      ]
    },
    {
      "cell_type": "markdown",
      "source": [
        " 5. WhatWhat is the output of this code in python?\n",
        "\n",
        "    r = lambda q: q * 2\n",
        "\n",
        "        s = lambda q: q * 3\n",
        "\n",
        "            x = 2\n",
        "\n",
        "                x = r (x)\n",
        "\n",
        "                    x = s (x)\n",
        "\n",
        "                        x = r (x)\n",
        "\n",
        "                            print (x)\n",
        "\n",
        "                            (A) 2\n",
        "\n",
        "                            (B) 4\n",
        "\n",
        "                            (C) 6\n",
        "\n",
        "                            (D) 12\n",
        "\n",
        "                            (E) 24"
      ],
      "metadata": {
        "id": "iAdIYfNS2fGN"
      }
    },
    {
      "cell_type": "markdown",
      "source": [
        "***ANSWER*** : **E** "
      ],
      "metadata": {
        "id": "fRIIAvPk4NwL"
      }
    },
    {
      "cell_type": "code",
      "source": [
        "r = lambda q: q * 2\n",
        "s = lambda q: q * 3\n",
        "x = 2\n",
        "x = r (x)\n",
        "x = s (x)\n",
        "x = r (x)\n",
        "print (x)"
      ],
      "metadata": {
        "colab": {
          "base_uri": "https://localhost:8080/"
        },
        "id": "m6IK1r394YET",
        "outputId": "621b7a2a-645e-4296-b35c-977447005a8f"
      },
      "execution_count": null,
      "outputs": [
        {
          "output_type": "stream",
          "name": "stdout",
          "text": [
            "24\n"
          ]
        }
      ]
    },
    {
      "cell_type": "markdown",
      "source": [
        "6.\n",
        "Which of the following conditions correctly describes the output of this code in Python?\n",
        "\n",
        "     first = [1 , 2 , 3 , 4 , 5]\n",
        "\n",
        "          second = first\n",
        "\n",
        "               second.append (6)\n",
        "\n",
        "                    print (first)\n",
        "\n",
        "                         print (second)\n",
        "(A) first=[1, 2, 3, 4, 5], second=[1, 2, 3, 4, 5, 6]\n",
        "\n",
        "(B) first=[1, 2, 3, 4, 5, 6], second=[1, 2, 3, 4, 5]\n",
        "\n",
        "(C) first=[1, 2, 3, 4, 5], second=[1, 2, 3, 4, 5 ]\n",
        "\n",
        "(D) first=[1, 2, 3, 4, 5, 6], second=[1, 2, 3, 4, 5, 6]\n",
        "\n",
        "(E) None of these"
      ],
      "metadata": {
        "id": "zPjh1IlA45Lc"
      }
    },
    {
      "cell_type": "markdown",
      "source": [
        "**Answer**: ***D***"
      ],
      "metadata": {
        "id": "KpECPyW95Zbz"
      }
    },
    {
      "cell_type": "code",
      "source": [
        "first = [1 , 2 , 3 , 4 , 5]\n",
        "second = first\n",
        "second.append (6)\n",
        "print (first)\n",
        "print (second)"
      ],
      "metadata": {
        "colab": {
          "base_uri": "https://localhost:8080/"
        },
        "id": "lnKAb0zY5jgR",
        "outputId": "06416876-bc7f-4595-959e-8ab51493a516"
      },
      "execution_count": null,
      "outputs": [
        {
          "output_type": "stream",
          "name": "stdout",
          "text": [
            "[1, 2, 3, 4, 5, 6]\n",
            "[1, 2, 3, 4, 5, 6]\n"
          ]
        }
      ]
    },
    {
      "cell_type": "markdown",
      "source": [
        "7.\n",
        "If the function\n",
        "\n",
        "int volume (int x = 1, int y = 1, int z = 1);\n",
        "\n",
        "is called by the expression volume (7,8),\n",
        "\n",
        "how many default arguments are used?\n",
        "\n",
        "(A) None\n",
        "\n",
        "(B) One\n",
        "\n",
        "(C) Two\n",
        "\n",
        "(D) Three\n",
        "\n",
        "(E) It depends on the runtime environment."
      ],
      "metadata": {
        "id": "0cQ8GLJe5u2m"
      }
    },
    {
      "cell_type": "markdown",
      "source": [
        "**Answer**: **D**"
      ],
      "metadata": {
        "id": "hSf4hQ3h53vV"
      }
    },
    {
      "cell_type": "markdown",
      "source": [
        "Reading comprehension: What is the output of this code in Python?"
      ],
      "metadata": {
        "id": "6WiuJ4uq6AWA"
      }
    },
    {
      "cell_type": "markdown",
      "source": [
        "B1.What is the output of this code in Python? explain it."
      ],
      "metadata": {
        "id": "cdNpXiol6BS1"
      }
    },
    {
      "cell_type": "markdown",
      "source": [
        "# This is formatted as code\n",
        "\n",
        "# primes.py\n",
        "primes = []  # this will contain the primes at the end\n",
        "upto = 100  # the limit, inclusive\n",
        "for n in range(2, upto + 1):\n",
        "    is_prime = True  # flag, new at each iteration of outer for\n",
        "    for divisor in range(2, n):\n",
        "         if n % divisor == 0:\n",
        "              is_prime = False\n",
        "              break\n",
        "    if is_prime:  # check on flag\n",
        "         primes.append(n)\n",
        "print(primes)"
      ],
      "metadata": {
        "id": "365FfbLU6UO7"
      }
    },
    {
      "cell_type": "code",
      "source": [
        "# primes.py\n",
        "primes = []  # this will contain the primes at the end\n",
        "upto = 100  # the limit, inclusive\n",
        "for n in range(2, upto + 1): \n",
        "    is_prime = True  # flag, new at each iteration of outer for\n",
        "    for divisor in range(2, n):\n",
        "        if n % divisor == 0:\n",
        "            is_prime = False\n",
        "            break\n",
        "    if is_prime:  # check on flag\n",
        "       primes.append(n) \n",
        "print(primes)"
      ],
      "metadata": {
        "colab": {
          "base_uri": "https://localhost:8080/"
        },
        "id": "8z0mt8Gs67f2",
        "outputId": "5118e885-e403-485b-ba13-21485ac4324f"
      },
      "execution_count": null,
      "outputs": [
        {
          "output_type": "stream",
          "name": "stdout",
          "text": [
            "[2, 3, 5, 7, 11, 13, 17, 19, 23, 29, 31, 37, 41, 43, 47, 53, 59, 61, 67, 71, 73, 79, 83, 89, 97]\n"
          ]
        }
      ]
    },
    {
      "cell_type": "markdown",
      "source": [
        "Explain."
      ],
      "metadata": {
        "id": "uCIcHYcU72Vf"
      }
    },
    {
      "cell_type": "code",
      "source": [
        "# primes.py\n",
        "    primes = []  # primes will contaian in the end\n",
        "    upto = 100  # the inclusive limit \n",
        "    for n in range(2, upto + 1): # repeat an action a specific number of times  upto + 1 \n",
        "        is_prime = True  # if factor is found, set flag to True\n",
        "        for divisor in range(2, n): # repeat an action a specific number of times\n",
        "            if n % divisor == 0: #  zero values are false\n",
        "                is_prime = False  # if factor is found, set flag to False\n",
        "                break # break out of loop\n",
        "        if is_prime:  # check on flag\n",
        "           primes.append(n) # is_prime is true then it will append in the list\n",
        "   print(primes) # print prime numbers"
      ],
      "metadata": {
        "id": "rNXr_Zzm9kJA"
      },
      "execution_count": null,
      "outputs": []
    },
    {
      "cell_type": "markdown",
      "source": [
        "**B2**.**What** **is** **the** **output** **of** **this** **code** **in** **Python**? **explain** **it**."
      ],
      "metadata": {
        "id": "4-1PJc7N-uY6"
      }
    },
    {
      "cell_type": "markdown",
      "source": [
        "# This is formatted as code\n",
        "# primes.else.py\n",
        "primes = []\n",
        "upto = 100\n",
        "for n in range(2, upto + 1):\n",
        "    for divisor in range(2, n):\n",
        "        if n % divisor == 0:\n",
        "             break\n",
        "     else:\n",
        "         primes.append(n)\n",
        "print(primes)"
      ],
      "metadata": {
        "id": "d-ELVJ8e-7lk"
      }
    },
    {
      "cell_type": "code",
      "source": [
        "# primes.else.py\n",
        "primes = []\n",
        "upto = 100\n",
        "for n in range(2, upto + 1):\n",
        "    for divisor in range(2, n):\n",
        "        if n % divisor == 0:\n",
        "             break\n",
        "    else:\n",
        "        primes.append(n)\n",
        "print(primes)"
      ],
      "metadata": {
        "colab": {
          "base_uri": "https://localhost:8080/"
        },
        "id": "D1kXI9DX_p7i",
        "outputId": "4651b01d-5e1e-40e6-afa4-0f4be8a58c23"
      },
      "execution_count": null,
      "outputs": [
        {
          "output_type": "stream",
          "name": "stdout",
          "text": [
            "[2, 3, 5, 7, 11, 13, 17, 19, 23, 29, 31, 37, 41, 43, 47, 53, 59, 61, 67, 71, 73, 79, 83, 89, 97]\n"
          ]
        }
      ]
    },
    {
      "cell_type": "markdown",
      "source": [
        "Explain."
      ],
      "metadata": {
        "id": "w7qGk-oCACwa"
      }
    },
    {
      "cell_type": "code",
      "source": [
        "# primes.else.py\n",
        "primes = [] # primes will contaian in the end\n",
        "upto = 100 # the inclusive limit\n",
        "for n in range(2, upto + 1): # repeat an action  a specific number of times  upto + 1 \n",
        "    for divisor in range(2, n): # repeat an action a specific number of times\n",
        "        if n % divisor == 0: #  zero values are false\n",
        "             break# break out of loop\n",
        "    else: # flag is true \n",
        "        primes.append(n)  # is_prime is true then it will append in the list\n",
        "print(primes) # print prime numbers"
      ],
      "metadata": {
        "id": "TqbIUvITAEWw"
      },
      "execution_count": null,
      "outputs": []
    },
    {
      "cell_type": "markdown",
      "source": [
        "B3.What is the output of this code in Python?explain it.\n",
        "\n",
        "# This is formatted as \n",
        "\n",
        "cubes = [x**3 for x in range(1,6)]\n",
        "print(cubes"
      ],
      "metadata": {
        "id": "6ddtwjwqAVSZ"
      }
    },
    {
      "cell_type": "markdown",
      "source": [
        "Ans."
      ],
      "metadata": {
        "id": "7peTN_9iAfdI"
      }
    },
    {
      "cell_type": "code",
      "source": [
        "cubes = [x**3 for x in range(1,6)]\n",
        "print(cubes)"
      ],
      "metadata": {
        "colab": {
          "base_uri": "https://localhost:8080/"
        },
        "id": "wm6dPMp0AiSx",
        "outputId": "7f4d9c8c-1bcc-473c-dab1-87d22c051893"
      },
      "execution_count": null,
      "outputs": [
        {
          "output_type": "stream",
          "name": "stdout",
          "text": [
            "[1, 8, 27, 64, 125]\n"
          ]
        }
      ]
    },
    {
      "cell_type": "markdown",
      "source": [
        "Explain.\n",
        "\n",
        "range(1,6) == > 1,2,3,4,5\n",
        "\n",
        "[x**3 for x in range(1,6)] ==> [13 , 23 , ...., 5**3]\n",
        "\n",
        "2**3 = 8"
      ],
      "metadata": {
        "id": "2mwxlb8fAnzy"
      }
    },
    {
      "cell_type": "markdown",
      "source": [
        "**Programming** **Python**"
      ],
      "metadata": {
        "id": "U_49nZjhD_NS"
      }
    },
    {
      "cell_type": "markdown",
      "source": [
        "The Fibonacci numbers may be defined by the recurrence relation\n",
        "\n",
        "F_{0}=0, F_{1}=1\n",
        "\n",
        "and\n",
        "\n",
        "F_{n} = F_{n-1} + F_{n-2} for n > 1.\n",
        "\n",
        "0,1,1,2,3,5,8,......\n",
        "\n",
        "Under some older definitions, the value F_{0}=0 is omitted,\n",
        "\n",
        "so that the sequence starts with F_{1}=F_{2}=1 and\n",
        "\n",
        "the recurrence F_{n}=F_{n-1}+F_{n-2} is valid for n > 2\n",
        "\n",
        "(1)Write a Python function/Program to Find Fibonacci Numbers using Recursion\n",
        "\n",
        "(2)use iterative Approach To Find the nth Term Of Fibonacci Sequence(You need to write a function using loop)"
      ],
      "metadata": {
        "id": "5klc0aiDEDl-"
      }
    },
    {
      "cell_type": "code",
      "source": [
        "def recur_fibo(n):\n",
        "   if n <= 1:\n",
        "       return n\n",
        "   else:\n",
        "       return(recur_fibo(n-1) + recur_fibo(n-2))\n",
        "\n",
        "nterms = 18\n",
        "\n",
        "# check if the number of terms is valid\n",
        "if nterms <= 0:\n",
        "   print(\"Plese enter a positive integer\")\n",
        "else:\n",
        "   print(\"Fibonacci sequence:\")\n",
        "   for i in range(nterms):\n",
        "       print(recur_fibo(i))"
      ],
      "metadata": {
        "colab": {
          "base_uri": "https://localhost:8080/"
        },
        "id": "8cT-o1UuEJAc",
        "outputId": "6edc4375-914f-47b4-e0b5-1e702468376b"
      },
      "execution_count": 23,
      "outputs": [
        {
          "output_type": "stream",
          "name": "stdout",
          "text": [
            "Fibonacci sequence:\n",
            "0\n",
            "1\n",
            "1\n",
            "2\n",
            "3\n",
            "5\n",
            "8\n",
            "13\n",
            "21\n",
            "34\n",
            "55\n",
            "89\n",
            "144\n",
            "233\n",
            "377\n",
            "610\n",
            "987\n",
            "1597\n"
          ]
        }
      ]
    },
    {
      "cell_type": "markdown",
      "source": [
        "1."
      ],
      "metadata": {
        "id": "97LnNBR0E6Z2"
      }
    },
    {
      "cell_type": "code",
      "source": [
        "def recur_fibo(n):\n",
        "     if n <= 1:\n",
        "         return n\n",
        "     else:\n",
        "         return(recur_fibo(n-1) + recur_fibo(n-2))\n",
        "\n",
        "nterms = 24\n",
        "\n",
        "# check if the number of terms is valid\n",
        "if nterms <= 0:\n",
        "   print(\"Plese enter a positive integer\")\n",
        "else:\n",
        "    print(\"Fibonacci sequence:\")\n",
        "    for i in range(nterms):\n",
        "        print(recur_fibo(i))"
      ],
      "metadata": {
        "colab": {
          "base_uri": "https://localhost:8080/"
        },
        "id": "K6WpLn-aFB_0",
        "outputId": "e6078ae6-5180-44c9-c4c0-179446fd199d"
      },
      "execution_count": 30,
      "outputs": [
        {
          "output_type": "stream",
          "name": "stdout",
          "text": [
            "Fibonacci sequence:\n",
            "0\n",
            "1\n",
            "1\n",
            "2\n",
            "3\n",
            "5\n",
            "8\n",
            "13\n",
            "21\n",
            "34\n",
            "55\n",
            "89\n",
            "144\n",
            "233\n",
            "377\n",
            "610\n",
            "987\n",
            "1597\n",
            "2584\n",
            "4181\n",
            "6765\n",
            "10946\n",
            "17711\n",
            "28657\n"
          ]
        }
      ]
    },
    {
      "cell_type": "markdown",
      "source": [
        "2."
      ],
      "metadata": {
        "id": "2j-pY5tHGom2"
      }
    },
    {
      "cell_type": "code",
      "source": [
        "def fibonacci(n):\n",
        "    a,b = 0,1\n",
        "    for i in range(n):\n",
        "        a,b = b,a+b\n",
        "    return a\n",
        "\n",
        "print(fibonacci(8))"
      ],
      "metadata": {
        "colab": {
          "base_uri": "https://localhost:8080/"
        },
        "id": "g5lE3LqTGzWC",
        "outputId": "5d2d626e-d3a3-475b-bbda-83d78e2b9956"
      },
      "execution_count": 31,
      "outputs": [
        {
          "output_type": "stream",
          "name": "stdout",
          "text": [
            "21\n"
          ]
        }
      ]
    }
  ]
}