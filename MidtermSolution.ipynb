{
  "nbformat": 4,
  "nbformat_minor": 0,
  "metadata": {
    "colab": {
      "provenance": [],
      "authorship_tag": "ABX9TyN68TT31wAMVxysb4M2T4Il",
      "include_colab_link": true
    },
    "kernelspec": {
      "name": "python3",
      "display_name": "Python 3"
    },
    "language_info": {
      "name": "python"
    }
  },
  "cells": [
    {
      "cell_type": "markdown",
      "metadata": {
        "id": "view-in-github",
        "colab_type": "text"
      },
      "source": [
        "<a href=\"https://colab.research.google.com/github/4110E238/cs2022/blob/main/MidtermSolution.ipynb\" target=\"_parent\"><img src=\"https://colab.research.google.com/assets/colab-badge.svg\" alt=\"Open In Colab\"/></a>"
      ]
    },
    {
      "cell_type": "markdown",
      "source": [
        "What can Python do?\n",
        "\n",
        "(A)Python can be used on a server to create web applications.\n",
        "(B)Python can be used alongside software to create workflows.\n",
        "(C)Python can connect to database systems. It can also read and modify files.\n",
        "(D)Python can be used to handle big data and perform complex mathematics."
      ],
      "metadata": {
        "id": "LElzeF2JPUSt"
      }
    },
    {
      "cell_type": "markdown",
      "source": [
        "Answer: \n",
        "  A,B\n",
        "https://www.w3schools.com/python/python_intro.asp"
      ],
      "metadata": {
        "id": "V4YPPWmlPV5i"
      }
    },
    {
      "cell_type": "markdown",
      "source": [
        "Python uses __________to indicate a block of code\n",
        "\n",
        "(A) [] (B){}  (C) ()  (D) indentation"
      ],
      "metadata": {
        "id": "Mu8yhSV2P7cJ"
      }
    },
    {
      "cell_type": "markdown",
      "source": [
        "Answer: ** D. identation**"
      ],
      "metadata": {
        "id": "LwF0sVanQp3t"
      }
    },
    {
      "cell_type": "markdown",
      "source": [
        "Python has commenting capability for the purpose of in-code documentation. Comments start with a __________ \n",
        "(A) A  \n",
        "(B) # \n",
        "(C) / \n",
        "(D) &"
      ],
      "metadata": {
        "id": "645qyjgoSDe9"
      }
    },
    {
      "cell_type": "markdown",
      "source": [
        "Answer :  B \n",
        "Comments starts with a #"
      ],
      "metadata": {
        "id": "f-sC9OdyUSeN"
      }
    },
    {
      "cell_type": "markdown",
      "source": [
        "4.\n",
        "Unpack Collection \n",
        "If you have a collection of values in a list, tuple etc. Python allows you to extract tha values into variables ."
      ],
      "metadata": {
        "id": "wenH13WNQ8ha"
      }
    },
    {
      "cell_type": "code",
      "source": [
        "fruits = [\"apple\", \"banana\", \"cherry\"]\n",
        "x, y, z =  fruits\n",
        "print(x)"
      ],
      "metadata": {
        "colab": {
          "base_uri": "https://localhost:8080/"
        },
        "id": "-4BlCRXzRh-1",
        "outputId": "5afbb167-5b7c-4ea1-dacd-cb893a5ca599"
      },
      "execution_count": 1,
      "outputs": [
        {
          "output_type": "stream",
          "name": "stdout",
          "text": [
            "apple\n"
          ]
        }
      ]
    },
    {
      "cell_type": "markdown",
      "source": [
        "5. Which following is the correct way to create a dictionary in Python?"
      ],
      "metadata": {
        "id": "sDapTG1YR598"
      }
    },
    {
      "cell_type": "code",
      "source": [
        "students = { 'name' => 'alice' ;  'score' =>60 }"
      ],
      "metadata": {
        "colab": {
          "base_uri": "https://localhost:8080/",
          "height": 130
        },
        "id": "7drbOQx-UhKN",
        "outputId": "8ba71b8d-3575-433a-85ca-c1c0dd24155c"
      },
      "execution_count": 2,
      "outputs": [
        {
          "output_type": "error",
          "ename": "SyntaxError",
          "evalue": "ignored",
          "traceback": [
            "\u001b[0;36m  File \u001b[0;32m\"<ipython-input-2-ed12b19b76b9>\"\u001b[0;36m, line \u001b[0;32m1\u001b[0m\n\u001b[0;31m    students = { 'name' => 'alice' ;  'score' =>60 }\u001b[0m\n\u001b[0m                        ^\u001b[0m\n\u001b[0;31mSyntaxError\u001b[0m\u001b[0;31m:\u001b[0m invalid syntax\n"
          ]
        }
      ]
    },
    {
      "cell_type": "code",
      "source": [
        "students = { 'name' = 'alice' ;  'score' =60 }"
      ],
      "metadata": {
        "colab": {
          "base_uri": "https://localhost:8080/",
          "height": 130
        },
        "id": "uuOm_hhNUllp",
        "outputId": "b8d35023-b9ec-4d2b-9c54-73ece07919ab"
      },
      "execution_count": 3,
      "outputs": [
        {
          "output_type": "error",
          "ename": "SyntaxError",
          "evalue": "ignored",
          "traceback": [
            "\u001b[0;36m  File \u001b[0;32m\"<ipython-input-3-2b6d7142b302>\"\u001b[0;36m, line \u001b[0;32m1\u001b[0m\n\u001b[0;31m    students = { 'name' = 'alice' ;  'score' =60 }\u001b[0m\n\u001b[0m                        ^\u001b[0m\n\u001b[0;31mSyntaxError\u001b[0m\u001b[0;31m:\u001b[0m invalid syntax\n"
          ]
        }
      ]
    },
    {
      "cell_type": "code",
      "source": [
        "students = { 'name' : 'alice' ;  'score' : 60 }"
      ],
      "metadata": {
        "colab": {
          "base_uri": "https://localhost:8080/",
          "height": 130
        },
        "id": "nuvvCrIeUqdg",
        "outputId": "42a6d01f-2fab-41e1-9304-b8500087ced7"
      },
      "execution_count": 4,
      "outputs": [
        {
          "output_type": "error",
          "ename": "SyntaxError",
          "evalue": "ignored",
          "traceback": [
            "\u001b[0;36m  File \u001b[0;32m\"<ipython-input-4-a6c06425b6ca>\"\u001b[0;36m, line \u001b[0;32m1\u001b[0m\n\u001b[0;31m    students = { 'name' : 'alice' ;  'score' : 60 }\u001b[0m\n\u001b[0m                                  ^\u001b[0m\n\u001b[0;31mSyntaxError\u001b[0m\u001b[0;31m:\u001b[0m invalid syntax\n"
          ]
        }
      ]
    },
    {
      "cell_type": "code",
      "source": [
        "students = { 'name' => 'alice' ,  'score' =>60 }"
      ],
      "metadata": {
        "colab": {
          "base_uri": "https://localhost:8080/",
          "height": 130
        },
        "id": "XkzjYJynUsw_",
        "outputId": "dcae80bf-5ef5-4669-ba86-74f48ea2fd82"
      },
      "execution_count": 7,
      "outputs": [
        {
          "output_type": "error",
          "ename": "SyntaxError",
          "evalue": "ignored",
          "traceback": [
            "\u001b[0;36m  File \u001b[0;32m\"<ipython-input-7-57cc8b55d372>\"\u001b[0;36m, line \u001b[0;32m1\u001b[0m\n\u001b[0;31m    students = { 'name' => 'alice' ,  'score' =>60 }\u001b[0m\n\u001b[0m                        ^\u001b[0m\n\u001b[0;31mSyntaxError\u001b[0m\u001b[0;31m:\u001b[0m invalid syntax\n"
          ]
        }
      ]
    },
    {
      "cell_type": "code",
      "source": [
        "students = { 'name' : 'alice' , 'score' : 60 }"
      ],
      "metadata": {
        "id": "nbcmFsIVUxtX"
      },
      "execution_count": 6,
      "outputs": []
    },
    {
      "cell_type": "markdown",
      "source": [
        "6. What is the output of this code in Python?\n",
        "\n",
        "x = 5\n",
        "y = \"John\"\n",
        "print(x + y) \n",
        "\n",
        "(A) 5  \n",
        "(B) 5 + John \n",
        "(C) John\n",
        "(D) Python will give you an error\n"
      ],
      "metadata": {
        "id": "0pkSDGVCVO9F"
      }
    },
    {
      "cell_type": "markdown",
      "source": [
        "7. \tWhich one of the following outputs is wrong?\n",
        "\n",
        "(A)13//5  output: 2.6\n",
        "(B) 13/5   output: 2.6\n",
        "(C)13%5   output:3   \n",
        "(D)y = int(2.8)  output:2\n"
      ],
      "metadata": {
        "id": "NPfr2b0PWtek"
      }
    },
    {
      "cell_type": "code",
      "source": [
        "13//5"
      ],
      "metadata": {
        "colab": {
          "base_uri": "https://localhost:8080/"
        },
        "id": "4Pa0puYqXnjg",
        "outputId": "2a92fcdb-1298-4b13-f321-0eaf296e5219"
      },
      "execution_count": 15,
      "outputs": [
        {
          "output_type": "execute_result",
          "data": {
            "text/plain": [
              "2"
            ]
          },
          "metadata": {},
          "execution_count": 15
        }
      ]
    },
    {
      "cell_type": "code",
      "source": [
        "13/5"
      ],
      "metadata": {
        "colab": {
          "base_uri": "https://localhost:8080/"
        },
        "id": "U8ZbpcOnXvkY",
        "outputId": "4cc1bdeb-d104-42d5-9d17-2e74b06300c6"
      },
      "execution_count": 16,
      "outputs": [
        {
          "output_type": "execute_result",
          "data": {
            "text/plain": [
              "2.6"
            ]
          },
          "metadata": {},
          "execution_count": 16
        }
      ]
    },
    {
      "cell_type": "code",
      "source": [
        "13%5"
      ],
      "metadata": {
        "colab": {
          "base_uri": "https://localhost:8080/"
        },
        "id": "pc4tBp2rXy-Q",
        "outputId": "d055087f-2bd1-449d-a24a-706b7c8d65d1"
      },
      "execution_count": 17,
      "outputs": [
        {
          "output_type": "execute_result",
          "data": {
            "text/plain": [
              "3"
            ]
          },
          "metadata": {},
          "execution_count": 17
        }
      ]
    },
    {
      "cell_type": "code",
      "source": [
        "y = int(2.8)"
      ],
      "metadata": {
        "id": "xCV8gBZJX651"
      },
      "execution_count": null,
      "outputs": []
    },
    {
      "cell_type": "markdown",
      "source": [
        "8. What does the following Python program fragment do?\n",
        "\n",
        "s=0\n",
        "   for i in range (3 , 11) :\n",
        "        s+=i\n",
        "   print (s)\n",
        "   \n",
        "   (A) Calculate the sum of 1+2+…+10\n",
        "   (B) Calculate the sum of 1+4+7+10\n",
        "   (C) Calculate the sum of 3+4+5+6+…+9\n",
        "   (D) Calculate the sum of 3+4+5+6+…+10\n",
        "   (E) Calculate the sum of 0+2+4+6+…+10\n"
      ],
      "metadata": {
        "id": "Jk0_vmdoX_Uf"
      }
    },
    {
      "cell_type": "markdown",
      "source": [
        "Answer : (D) Calculate the sum of 3+4+5+6+…+10 "
      ],
      "metadata": {
        "id": "7bJ9FOI4Z3ey"
      }
    },
    {
      "cell_type": "code",
      "source": [
        "s=0\n",
        "for i in range (3, 11):\n",
        "        s+=i\n",
        "print (s)"
      ],
      "metadata": {
        "colab": {
          "base_uri": "https://localhost:8080/"
        },
        "id": "uazeoeN3ZSz9",
        "outputId": "43cf9f9e-accf-42ef-8d0b-ae93aeaa57f6"
      },
      "execution_count": 25,
      "outputs": [
        {
          "output_type": "stream",
          "name": "stdout",
          "text": [
            "52\n"
          ]
        }
      ]
    },
    {
      "cell_type": "markdown",
      "source": [
        "9. What is the output of this code in Python?\n",
        "\n",
        "a = \"Hello, World!\"\n",
        "print(a[2:5]+ a[3:8]) \n",
        "\n",
        "(A)  W llolo,\n",
        "(B)  llolo,Wo\n",
        "(C)  llolo, W\n",
        "(D)  llolo,Wor\n"
      ],
      "metadata": {
        "id": "sp7nQEZAaDF1"
      }
    },
    {
      "cell_type": "code",
      "source": [
        "a = \"Hello, World!\" \n",
        "print(a[2:5]+ a[3:8])"
      ],
      "metadata": {
        "colab": {
          "base_uri": "https://localhost:8080/"
        },
        "id": "n3tR0vWoaJ3Q",
        "outputId": "36b5f4d9-e46d-4c8a-c90f-da5db2cfc72c"
      },
      "execution_count": 27,
      "outputs": [
        {
          "output_type": "stream",
          "name": "stdout",
          "text": [
            "llolo, W\n"
          ]
        }
      ]
    },
    {
      "cell_type": "markdown",
      "source": [
        "10. Which function can returns the length of a string?\n",
        "a = \"Hello, Pythonian!\"\n",
        "print(_________)\n",
        "(A) len(a)  (B) length(a)   (C) count(a)  (D)  num(a)\n"
      ],
      "metadata": {
        "id": "hRIdK_gsaVk6"
      }
    },
    {
      "cell_type": "code",
      "source": [
        "a = \"Hello, Pythonian!\"\n",
        "print(len(a))"
      ],
      "metadata": {
        "colab": {
          "base_uri": "https://localhost:8080/"
        },
        "id": "Zb0AEduraaxL",
        "outputId": "76378583-6c9b-4f24-f6bf-7441447e3db9"
      },
      "execution_count": 28,
      "outputs": [
        {
          "output_type": "stream",
          "name": "stdout",
          "text": [
            "17\n"
          ]
        }
      ]
    },
    {
      "cell_type": "markdown",
      "source": [
        "11. What is the output of this code in Python?\n",
        "      list = [ ' a ' ,  ' b ' ,  ' c ' ,  ' d ' ,  ' e ' ]\n",
        "      print (list [ 1 : ])\n",
        "   (A) [ ]\n",
        "   (B) [ 'b' ]\n",
        "   (C) [ 'a' ,  'b' ]\n",
        "   (D) [ 'b' ,  'c' ,  'd' ,  'e' ]\n"
      ],
      "metadata": {
        "id": "Mr2Ot2Gbb4tB"
      }
    },
    {
      "cell_type": "code",
      "source": [
        "list = [ ' a ' ,  ' b ' ,  ' c ' ,  ' d ' ,  ' e ' ]\n",
        "print (list [ 1 : ])"
      ],
      "metadata": {
        "colab": {
          "base_uri": "https://localhost:8080/"
        },
        "id": "datWu4lqcFlo",
        "outputId": "a6e1b546-dcf3-4fdf-fee5-bd7fbf68fbe5"
      },
      "execution_count": 33,
      "outputs": [
        {
          "output_type": "stream",
          "name": "stdout",
          "text": [
            "[' b ', ' c ', ' d ', ' e ']\n"
          ]
        }
      ]
    },
    {
      "cell_type": "markdown",
      "source": [
        "12. What is the output of this code in Python?\n",
        "        L1 = [ ]\n",
        "        L1.append ( [1, [2, 3], 4] )\n",
        "        L1.extend ( [7, 8, 9] )\n",
        "        print(L1[0][1][1] + L1[2] )\n",
        "        \n",
        "   (A) 3  (B) 8  (C) 11  (D) 38  (E) None of these"
      ],
      "metadata": {
        "id": "cF6UxAE8dDQp"
      }
    },
    {
      "cell_type": "code",
      "source": [
        "L1 = [ ]\n",
        "L1.append ( [1, [2, 3], 4] )\n",
        "L1.extend ( [7, 8, 9] )\n",
        "print(L1[0][1][1] + L1[2] )"
      ],
      "metadata": {
        "colab": {
          "base_uri": "https://localhost:8080/"
        },
        "id": "3_SERd8bdOJw",
        "outputId": "b3b00a85-8e64-47e7-ed20-f7dbb489662b"
      },
      "execution_count": 34,
      "outputs": [
        {
          "output_type": "stream",
          "name": "stdout",
          "text": [
            "11\n"
          ]
        }
      ]
    },
    {
      "cell_type": "markdown",
      "source": [
        "13. Check if \"free\" is present in the following text:\n",
        "\n",
        "txt = \"The best things in life are free!\"\n",
        "print(\"free\" ______ txt)\n",
        "\n",
        "Which is the correct answer?\n",
        "(A) on (B) with (C) at  (D) in\n"
      ],
      "metadata": {
        "id": "tQlFWJvYdXlR"
      }
    },
    {
      "cell_type": "code",
      "source": [
        "txt = \"The best things on life are free!\"\n",
        "print(\"free\")"
      ],
      "metadata": {
        "colab": {
          "base_uri": "https://localhost:8080/"
        },
        "id": "99-kK7gcdtK1",
        "outputId": "af84f46a-3994-49f2-c038-4e2cb8202188"
      },
      "execution_count": 40,
      "outputs": [
        {
          "output_type": "stream",
          "name": "stdout",
          "text": [
            "free\n"
          ]
        }
      ]
    },
    {
      "cell_type": "markdown",
      "source": [
        "14. Which of the following conditions correctly describes the output of this code in  Python?\n",
        "         first = [1 , 2 , 3 , 4 , 5]\n",
        "         second = first\n",
        "         second.append (6)\n",
        "         print (first)\n",
        "         print (second)\n",
        "   (A) first=[1, 2, 3, 4, 5], second=[1, 2, 3, 4, 5, 6]\n",
        "   (B) first=[1, 2, 3, 4, 5, 6], second=[1, 2, 3, 4, 5]\n",
        "   (C) first=[1, 2, 3, 4, 5], second=[1, 2, 3, 4, 5]\n",
        "   (D) first=[1, 2, 3, 4, 5, 6], second=[1, 2, 3, 4, 5, 6]\n",
        "   (E) None of these\n"
      ],
      "metadata": {
        "id": "rbanesm4ecar"
      }
    },
    {
      "cell_type": "markdown",
      "source": [
        "ANSWER: (D) first=[1, 2, 3, 4, 5, 6], second=[1, 2, 3, 4, 5, 6]"
      ],
      "metadata": {
        "id": "lPxP_jVSfAno"
      }
    },
    {
      "cell_type": "code",
      "source": [
        "first = [1 , 2 , 3 , 4 , 5]\n",
        "second = first\n",
        "second.append (6)\n",
        "print (first)\n",
        "print (second)"
      ],
      "metadata": {
        "colab": {
          "base_uri": "https://localhost:8080/"
        },
        "id": "UILL3qbCepef",
        "outputId": "c5540372-3ff0-4e1f-89fd-c99d9ea1f2ad"
      },
      "execution_count": 42,
      "outputs": [
        {
          "output_type": "stream",
          "name": "stdout",
          "text": [
            "[1, 2, 3, 4, 5, 6]\n",
            "[1, 2, 3, 4, 5, 6]\n"
          ]
        }
      ]
    },
    {
      "cell_type": "markdown",
      "source": [
        "15. Python has a set of built-in methods that you can use on strings. Which method can converts string into lower case ?\n",
        "(A)capitalize()     (B) casefold()     (C) lower()  \n",
        "(D)expandtabs()\n"
      ],
      "metadata": {
        "id": "gBeBr9RWfMhq"
      }
    },
    {
      "cell_type": "markdown",
      "source": [
        "ANSWER : (B) casefold\n",
        "         (C) lower"
      ],
      "metadata": {
        "id": "QRSjKmtNfSSz"
      }
    },
    {
      "cell_type": "markdown",
      "source": [
        "16. Python Booleans\n",
        "Which one of the following statements is wrong?\n",
        "(A) Booleans represent one of two values: True or False. \n",
        "(B) The bool() function allows you to evaluate any value, and give you True or False in return, \n",
        "(C) print(10 > 9) will output True  \n",
        "(D) print(10 = 9) will output True\n"
      ],
      "metadata": {
        "id": "hZQ8suQYgYlU"
      }
    },
    {
      "cell_type": "markdown",
      "source": [
        "ANSWER : (D) print(10 = 9) will output True"
      ],
      "metadata": {
        "id": "xY-O26jUggNc"
      }
    },
    {
      "cell_type": "markdown",
      "source": [
        "17. Python Lists \n",
        "Which of the following statements is wrong?\n",
        "\n",
        "(A) Lists are used to store multiple items in a single variable.\n",
        "(B) Lists are created using square brackets \n",
        "(C) List items are ordered, changeable, and allow duplicate values. \n",
        "(D) Lists can not have items with the same value\n"
      ],
      "metadata": {
        "id": "mGhH4SHfhGlc"
      }
    },
    {
      "cell_type": "markdown",
      "source": [
        "ANSWER : (D) Lists can not have items with the same value"
      ],
      "metadata": {
        "id": "KOcIgil9hPiC"
      }
    },
    {
      "cell_type": "markdown",
      "source": [
        "18. Which one of the codes will output\n",
        "['apple', 'orange', 'banana', 'cherry']  ?\n",
        "\n",
        "mylist = [\"apple\", \"banana\", \"cherry\"]\n",
        "_____________________\n",
        "print(mylist)\n",
        "\n",
        "(A)mylist.append(\"orange\")\n",
        "(B)mylist.insert(0, \"orange\")\n",
        "(C)mylist.insert(1, \"orange\")   \n",
        "(D)mylist.insert(2, \"orange\")\n"
      ],
      "metadata": {
        "id": "kCrnx52qhkww"
      }
    },
    {
      "cell_type": "code",
      "source": [
        "mylist = [\"apple\", \"banana\", \"cherry\"]\n",
        "mylist.insert(1, \"orange\")\n",
        "print(mylist)\n"
      ],
      "metadata": {
        "colab": {
          "base_uri": "https://localhost:8080/"
        },
        "id": "8x8vX2MFhwV4",
        "outputId": "34eeb135-2b7e-402d-a587-dec4e5d974f5"
      },
      "execution_count": 44,
      "outputs": [
        {
          "output_type": "stream",
          "name": "stdout",
          "text": [
            "['apple', 'orange', 'banana', 'cherry']\n"
          ]
        }
      ]
    },
    {
      "cell_type": "markdown",
      "source": [
        "ANSWER : (C) mylist.insert(1, \"orange\")"
      ],
      "metadata": {
        "id": "UP16ffsCiCzr"
      }
    },
    {
      "cell_type": "markdown",
      "source": [
        "19. Python has a set of built-in methods that you can use on dictionaries. Which statements are correct ?\n",
        "(A) clear() will removes all the elements from the dictionary\n",
        "(B) copy() will returns a copy of the dictionary \n",
        "(C) items() will returns a list containing a tuple for each key value pair  \n",
        "(D) popitem()\twill removes the last inserted key-value pair\n"
      ],
      "metadata": {
        "id": "5zc9RREWiM8w"
      }
    },
    {
      "cell_type": "markdown",
      "source": [
        "ANSWER :\n",
        "(A) clear() will removes all the elements from the dictionary\n",
        "(B) copy() will returns a copy of the dictionary \n",
        "(C) items() will returns a list containing a tuple for each key value pair  \n",
        "(D) popitem()\twill removes the last inserted key-value pair\n"
      ],
      "metadata": {
        "id": "j_830PslicW5"
      }
    },
    {
      "cell_type": "markdown",
      "source": [
        "20. Python supports the usual logical conditions from mathematics:\n",
        "Which statements are correct ?\n",
        "(A)Equals: a = b\n",
        "(B)Not Equals: a != b\n",
        "(C)Less than or equal to: a <= b\n",
        "(D)Greater than: a > b\n"
      ],
      "metadata": {
        "id": "j16OOEy9j2BZ"
      }
    },
    {
      "cell_type": "markdown",
      "source": [
        "ANSWER : (A)Equals: a = b\n",
        "         (D)Greater than: a > b"
      ],
      "metadata": {
        "id": "3rNRt0w5kGzE"
      }
    },
    {
      "cell_type": "markdown",
      "source": [
        "21. What is the output of this code in Python?\n",
        "\n",
        "i = 1\n",
        "while i < 6:\n",
        "  print(i)\n",
        "  if (i == 3):\n",
        "    break\n",
        "  i += 1\n",
        "  \n",
        "(A) 1 2 3 \n",
        "(B) 1 2 4 5 6\n",
        "(C) 1 2 3 4 5 6 \n",
        "(D) 4 5 6 "
      ],
      "metadata": {
        "id": "8Rak7X-cknIo"
      }
    },
    {
      "cell_type": "code",
      "source": [
        "i = 1\n",
        "while i < 6:\n",
        " print(i)\n",
        " if (i == 3):\n",
        "    break\n",
        " i += 1\n"
      ],
      "metadata": {
        "colab": {
          "base_uri": "https://localhost:8080/"
        },
        "id": "bYlF6KgBlFvF",
        "outputId": "5c3b634e-5e9b-4444-929f-11b0c81248f0"
      },
      "execution_count": 46,
      "outputs": [
        {
          "output_type": "stream",
          "name": "stdout",
          "text": [
            "1\n",
            "2\n",
            "3\n"
          ]
        }
      ]
    },
    {
      "cell_type": "markdown",
      "source": [
        "ANSWER : A"
      ],
      "metadata": {
        "id": "sYMmI6-_lb-s"
      }
    },
    {
      "cell_type": "markdown",
      "source": [
        "22. What is the output of this code in Python?\n",
        "i = 0\n",
        "while i < 6:\n",
        "  i += 1\n",
        "  if i == 3:\n",
        "    continue\n",
        "  print(i)\n",
        "\n",
        "(A) 1 2 3 (B) 1 2 4 5 6 (C) 1 2 3 4 5 6 (D) 4 5 6"
      ],
      "metadata": {
        "id": "bptMs-MZlemY"
      }
    },
    {
      "cell_type": "code",
      "source": [
        "i = 0\n",
        "while i < 6:\n",
        "  i += 1\n",
        "  if i == 3:\n",
        "    continue\n",
        "  print(i)\n"
      ],
      "metadata": {
        "colab": {
          "base_uri": "https://localhost:8080/"
        },
        "id": "iFyUusJ_lxHf",
        "outputId": "111c2852-60a1-4ee8-df58-567d6d4904dc"
      },
      "execution_count": 47,
      "outputs": [
        {
          "output_type": "stream",
          "name": "stdout",
          "text": [
            "1\n",
            "2\n",
            "4\n",
            "5\n",
            "6\n"
          ]
        }
      ]
    },
    {
      "cell_type": "markdown",
      "source": [
        "ANSWER : (B) 1 2 4 5 6"
      ],
      "metadata": {
        "id": "UKjxeyPZl4cJ"
      }
    },
    {
      "cell_type": "markdown",
      "source": [
        "23.\tIf the function \n",
        "int volume (int x = 1, int y = 1, int z = 1); \n",
        "is called by the expression volume (7,8), how many default arguments are used?\n",
        "(A) None  (B) One  (C) Two  (D) Three\n",
        "(E) It depends on the runtime environment.\n"
      ],
      "metadata": {
        "id": "svhI_koCl9dQ"
      }
    },
    {
      "cell_type": "markdown",
      "source": [],
      "metadata": {
        "id": "qrSBcwZhnjRI"
      }
    },
    {
      "cell_type": "markdown",
      "source": [
        "24. What is the output of this code in python?\n",
        "        r = lambda q: q * 2\n",
        "        s = lambda q: q * 3\n",
        "        x = 2\n",
        "        x = r (x)\n",
        "        x = s (x)\n",
        "        x = r (x)\n",
        "        print (x)\n",
        "   (A) 2  (B) 4  (C) 6  (D) 12  (E) 24\n"
      ],
      "metadata": {
        "id": "a6PUEjjnnjtm"
      }
    },
    {
      "cell_type": "code",
      "source": [
        "r = lambda q: q * 2\n",
        "s = lambda q: q * 3\n",
        "x = 2\n",
        "x = r (x)\n",
        "x = s (x)\n",
        "x = r (x)\n",
        "print (x)"
      ],
      "metadata": {
        "colab": {
          "base_uri": "https://localhost:8080/"
        },
        "id": "cfCZ5ic8nyO_",
        "outputId": "305ea89c-d90f-452a-8525-b73d1ca02608"
      },
      "execution_count": 53,
      "outputs": [
        {
          "output_type": "stream",
          "name": "stdout",
          "text": [
            "24\n"
          ]
        }
      ]
    },
    {
      "cell_type": "markdown",
      "source": [
        "ANSWER : (E) 24"
      ],
      "metadata": {
        "id": "GPV_aigQn-RX"
      }
    },
    {
      "cell_type": "markdown",
      "source": [
        "25.\tA recursive function is defined as below:\n",
        "def tri_recursion(k):\n",
        "  if(k > 0):\n",
        "    result = k + tri_recursion(k - 1)\n",
        "    print(result)\n",
        "  else:\n",
        "    result = 0\n",
        "  return result\n",
        "\n",
        "What Is The Last Line Of The Output When tri_recursion(6) is executed? \n",
        "   (A) 6  (B) 10  (C) 15  (D) 21  (E) 28\n",
        "\n"
      ],
      "metadata": {
        "id": "VLU2S89CoBya"
      }
    },
    {
      "cell_type": "markdown",
      "source": [
        "ANSWER : (D) 21"
      ],
      "metadata": {
        "id": "zZX0mYfPqfHf"
      }
    }
  ]
}