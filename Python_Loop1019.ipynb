{
  "nbformat": 4,
  "nbformat_minor": 0,
  "metadata": {
    "colab": {
      "provenance": [],
      "collapsed_sections": [],
      "authorship_tag": "ABX9TyNKuD4MguY2AMkntvV9h1WZ",
      "include_colab_link": true
    },
    "kernelspec": {
      "name": "python3",
      "display_name": "Python 3"
    },
    "language_info": {
      "name": "python"
    }
  },
  "cells": [
    {
      "cell_type": "markdown",
      "metadata": {
        "id": "view-in-github",
        "colab_type": "text"
      },
      "source": [
        "<a href=\"https://colab.research.google.com/github/4110E238/cs2022/blob/main/Python_Loop1019.ipynb\" target=\"_parent\"><img src=\"https://colab.research.google.com/assets/colab-badge.svg\" alt=\"Open In Colab\"/></a>"
      ]
    },
    {
      "cell_type": "markdown",
      "source": [
        "For Loops "
      ],
      "metadata": {
        "id": "mOl1SG_k5r9M"
      }
    },
    {
      "cell_type": "code",
      "source": [
        "fruits = [\"blueberry\", \"strawberry\", \"mango\"]\n",
        "for x in fruits:\n",
        "  print(x)"
      ],
      "metadata": {
        "colab": {
          "base_uri": "https://localhost:8080/"
        },
        "id": "w-u6MHzr5u2W",
        "outputId": "d476714a-a0d3-4562-8044-92d59ae09204"
      },
      "execution_count": 8,
      "outputs": [
        {
          "output_type": "stream",
          "name": "stdout",
          "text": [
            "blueberry\n",
            "strawberry\n",
            "mango\n"
          ]
        }
      ]
    },
    {
      "cell_type": "markdown",
      "source": [
        "Looping Through String"
      ],
      "metadata": {
        "id": "fufC8xNf50ms"
      }
    },
    {
      "cell_type": "code",
      "source": [
        "for x in \"strawberry\":\n",
        "    print(x)"
      ],
      "metadata": {
        "colab": {
          "base_uri": "https://localhost:8080/"
        },
        "id": "RjuyqYBJ58Cx",
        "outputId": "9872817e-d882-47ea-ca97-5b6bcd65e954"
      },
      "execution_count": 9,
      "outputs": [
        {
          "output_type": "stream",
          "name": "stdout",
          "text": [
            "s\n",
            "t\n",
            "r\n",
            "a\n",
            "w\n",
            "b\n",
            "e\n",
            "r\n",
            "r\n",
            "y\n"
          ]
        }
      ]
    },
    {
      "cell_type": "markdown",
      "source": [
        "Break Statement"
      ],
      "metadata": {
        "id": "GqxjK9cE6A-R"
      }
    },
    {
      "cell_type": "code",
      "source": [
        "fruits = [\"blueberry\", \"strawberry\", \"mango\"]\n",
        "for x in fruits:\n",
        "  print(x)\n",
        "  if x == \"strawberry\":\n",
        "        break"
      ],
      "metadata": {
        "colab": {
          "base_uri": "https://localhost:8080/"
        },
        "id": "7iH6Um8z6ECm",
        "outputId": "3c61923d-6969-4f54-d3ff-da152c929321"
      },
      "execution_count": 10,
      "outputs": [
        {
          "output_type": "stream",
          "name": "stdout",
          "text": [
            "blueberry\n",
            "strawberry\n"
          ]
        }
      ]
    },
    {
      "cell_type": "markdown",
      "source": [
        "Example"
      ],
      "metadata": {
        "id": "E-kBvEYw6Wen"
      }
    },
    {
      "cell_type": "code",
      "source": [
        "fruits = [\"blueberry\", \"strawberry\", \"mango\"]\n",
        "for x in fruits:\n",
        "  if x == \"strawberry\":\n",
        "      break\n",
        "  print(x)"
      ],
      "metadata": {
        "colab": {
          "base_uri": "https://localhost:8080/"
        },
        "id": "lbm_R6G16ZqE",
        "outputId": "0854a88c-0042-4145-8897-caa3b8667ad9"
      },
      "execution_count": 11,
      "outputs": [
        {
          "output_type": "stream",
          "name": "stdout",
          "text": [
            "blueberry\n"
          ]
        }
      ]
    },
    {
      "cell_type": "markdown",
      "source": [
        "Continue Statement"
      ],
      "metadata": {
        "id": "0nDTH2nw7lyc"
      }
    },
    {
      "cell_type": "code",
      "source": [
        "fruits = [\"blueberry\", \"strawberry\", \"mango\"]\n",
        "for x in fruits:\n",
        "  if x == \"strawberry\":\n",
        "      continue\n",
        "  print(x)"
      ],
      "metadata": {
        "colab": {
          "base_uri": "https://localhost:8080/"
        },
        "id": "honlwOTi7oY7",
        "outputId": "50f64b22-ab60-4b25-a79d-ca500b222bca"
      },
      "execution_count": 13,
      "outputs": [
        {
          "output_type": "stream",
          "name": "stdout",
          "text": [
            "blueberry\n",
            "mango\n"
          ]
        }
      ]
    }
  ]
}